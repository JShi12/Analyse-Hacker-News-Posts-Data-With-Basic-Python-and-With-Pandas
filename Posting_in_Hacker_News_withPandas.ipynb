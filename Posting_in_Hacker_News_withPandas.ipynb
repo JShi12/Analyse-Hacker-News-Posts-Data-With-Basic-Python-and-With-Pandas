{
 "cells": [
  {
   "cell_type": "markdown",
   "id": "21466f8c-4307-4a94-b0ed-d61dae192304",
   "metadata": {},
   "source": [
    "# Posting in Hacker News: Posting Time Affects the Number of Comments (Analysis with Pandas)\n",
    "Hacker News is a site started by the startup incubator Y Combinator, where user-submitted stories (known as \"posts\") are voted and commented upon, similar to reddit. Hacker News is extremely popular in technology and startup circles, and posts that make it to the top of Hacker News' listings can get hundreds of thousands of visitors as a result.\n",
    "\n",
    "In this project, I aim to use **Pandas** to compare two types of posts, titles begin with either Ask HN or Show HN, to determine the following:\n",
    "\n",
    "* Do Ask HN or Show HN receive more comments on average?\n",
    "* Do posts created at a certain time receive more comments on average?\n",
    "\n",
    "### Summary of Results\n",
    "\n",
    "The data shows that the Ask HN posts received more comments than the Show HN posts on average, indicating that Ask HN posts are more likely to receive comments. For Ask HN posts, creating a post at 15:00 Eastern Time in the US (which corresponds to UK time 20:00), has a higher chance of receiving comments."
   ]
  },
  {
   "cell_type": "markdown",
   "id": "096690b8-b843-42e1-8cc5-a98ff2476159",
   "metadata": {},
   "source": [
    "## Read the data\n",
    "\n",
    "The data used for the analysis was accessed via https://www.kaggle.com/datasets/hacker-news/hacker-news-posts"
   ]
  },
  {
   "cell_type": "code",
   "execution_count": 54,
   "id": "26cbcefc-6994-460f-8ad6-8d5c46fb535a",
   "metadata": {},
   "outputs": [],
   "source": [
    "# import relavant modules\n",
    "import pandas as pd\n",
    "import matplotlib.pyplot as plt\n",
    "import seaborn as sns\n"
   ]
  },
  {
   "cell_type": "code",
   "execution_count": 9,
   "id": "f2d9210b-288e-44a5-939a-4de4617c8bec",
   "metadata": {},
   "outputs": [],
   "source": [
    "# Read in the data\n",
    "df=pd.read_csv('hacker_news.csv')\n"
   ]
  },
  {
   "cell_type": "markdown",
   "id": "f67c39a6-d60d-4893-b0fc-1efa90ff99d0",
   "metadata": {},
   "source": [
    "## Exploration of the data"
   ]
  },
  {
   "cell_type": "code",
   "execution_count": 10,
   "id": "58a7c767-f256-46a7-9fd8-d1b2fc95b292",
   "metadata": {},
   "outputs": [
    {
     "name": "stdout",
     "output_type": "stream",
     "text": [
      "(293119, 7)\n"
     ]
    },
    {
     "data": {
      "text/html": [
       "<div>\n",
       "<style scoped>\n",
       "    .dataframe tbody tr th:only-of-type {\n",
       "        vertical-align: middle;\n",
       "    }\n",
       "\n",
       "    .dataframe tbody tr th {\n",
       "        vertical-align: top;\n",
       "    }\n",
       "\n",
       "    .dataframe thead th {\n",
       "        text-align: right;\n",
       "    }\n",
       "</style>\n",
       "<table border=\"1\" class=\"dataframe\">\n",
       "  <thead>\n",
       "    <tr style=\"text-align: right;\">\n",
       "      <th></th>\n",
       "      <th>id</th>\n",
       "      <th>title</th>\n",
       "      <th>url</th>\n",
       "      <th>num_points</th>\n",
       "      <th>num_comments</th>\n",
       "      <th>author</th>\n",
       "      <th>created_at</th>\n",
       "    </tr>\n",
       "  </thead>\n",
       "  <tbody>\n",
       "    <tr>\n",
       "      <th>0</th>\n",
       "      <td>12579008</td>\n",
       "      <td>You have two days to comment if you want stem ...</td>\n",
       "      <td>http://www.regulations.gov/document?D=FDA-2015...</td>\n",
       "      <td>1</td>\n",
       "      <td>0</td>\n",
       "      <td>altstar</td>\n",
       "      <td>9/26/2016 3:26</td>\n",
       "    </tr>\n",
       "    <tr>\n",
       "      <th>1</th>\n",
       "      <td>12579005</td>\n",
       "      <td>SQLAR  the SQLite Archiver</td>\n",
       "      <td>https://www.sqlite.org/sqlar/doc/trunk/README.md</td>\n",
       "      <td>1</td>\n",
       "      <td>0</td>\n",
       "      <td>blacksqr</td>\n",
       "      <td>9/26/2016 3:24</td>\n",
       "    </tr>\n",
       "    <tr>\n",
       "      <th>2</th>\n",
       "      <td>12578997</td>\n",
       "      <td>What if we just printed a flatscreen televisio...</td>\n",
       "      <td>https://medium.com/vanmoof/our-secrets-out-f21...</td>\n",
       "      <td>1</td>\n",
       "      <td>0</td>\n",
       "      <td>pavel_lishin</td>\n",
       "      <td>9/26/2016 3:19</td>\n",
       "    </tr>\n",
       "    <tr>\n",
       "      <th>3</th>\n",
       "      <td>12578989</td>\n",
       "      <td>algorithmic music</td>\n",
       "      <td>http://cacm.acm.org/magazines/2011/7/109891-al...</td>\n",
       "      <td>1</td>\n",
       "      <td>0</td>\n",
       "      <td>poindontcare</td>\n",
       "      <td>9/26/2016 3:16</td>\n",
       "    </tr>\n",
       "    <tr>\n",
       "      <th>4</th>\n",
       "      <td>12578979</td>\n",
       "      <td>How the Data Vault Enables the Next-Gen Data W...</td>\n",
       "      <td>https://www.talend.com/blog/2016/05/12/talend-...</td>\n",
       "      <td>1</td>\n",
       "      <td>0</td>\n",
       "      <td>markgainor1</td>\n",
       "      <td>9/26/2016 3:14</td>\n",
       "    </tr>\n",
       "  </tbody>\n",
       "</table>\n",
       "</div>"
      ],
      "text/plain": [
       "         id                                              title  \\\n",
       "0  12579008  You have two days to comment if you want stem ...   \n",
       "1  12579005                         SQLAR  the SQLite Archiver   \n",
       "2  12578997  What if we just printed a flatscreen televisio...   \n",
       "3  12578989                                  algorithmic music   \n",
       "4  12578979  How the Data Vault Enables the Next-Gen Data W...   \n",
       "\n",
       "                                                 url  num_points  \\\n",
       "0  http://www.regulations.gov/document?D=FDA-2015...           1   \n",
       "1   https://www.sqlite.org/sqlar/doc/trunk/README.md           1   \n",
       "2  https://medium.com/vanmoof/our-secrets-out-f21...           1   \n",
       "3  http://cacm.acm.org/magazines/2011/7/109891-al...           1   \n",
       "4  https://www.talend.com/blog/2016/05/12/talend-...           1   \n",
       "\n",
       "   num_comments        author      created_at  \n",
       "0             0       altstar  9/26/2016 3:26  \n",
       "1             0      blacksqr  9/26/2016 3:24  \n",
       "2             0  pavel_lishin  9/26/2016 3:19  \n",
       "3             0  poindontcare  9/26/2016 3:16  \n",
       "4             0   markgainor1  9/26/2016 3:14  "
      ]
     },
     "execution_count": 10,
     "metadata": {},
     "output_type": "execute_result"
    }
   ],
   "source": [
    "# Quick exploration of the data\n",
    "print(df.shape)\n",
    "pd.options.display.max_columns = 150 # to avoid truncated output \n",
    "df.head()"
   ]
  },
  {
   "cell_type": "code",
   "execution_count": 11,
   "id": "0b66a7df-b42b-4698-9d59-c47562553ad1",
   "metadata": {},
   "outputs": [
    {
     "name": "stdout",
     "output_type": "stream",
     "text": [
      "id                  0\n",
      "title               0\n",
      "url             13863\n",
      "num_points          0\n",
      "num_comments        0\n",
      "author              0\n",
      "created_at          0\n",
      "dtype: int64\n"
     ]
    }
   ],
   "source": [
    "# check null values\n",
    "print(df.isna().sum())"
   ]
  },
  {
   "cell_type": "markdown",
   "id": "a99e1e7f-748a-4d4c-97b3-388dfb77979e",
   "metadata": {},
   "source": [
    "There are a large amount of missing data for the column 'url'. As our interest is not in 'url' but other columns where there is none missing data, we will keep all the data for the analysis."
   ]
  },
  {
   "cell_type": "code",
   "execution_count": 12,
   "id": "0ef4f04d-f88b-4306-910a-b83f45634659",
   "metadata": {},
   "outputs": [
    {
     "name": "stdout",
     "output_type": "stream",
     "text": [
      "<class 'pandas.core.frame.DataFrame'>\n",
      "RangeIndex: 293119 entries, 0 to 293118\n",
      "Data columns (total 7 columns):\n",
      " #   Column        Non-Null Count   Dtype \n",
      "---  ------        --------------   ----- \n",
      " 0   id            293119 non-null  int64 \n",
      " 1   title         293119 non-null  object\n",
      " 2   url           279256 non-null  object\n",
      " 3   num_points    293119 non-null  int64 \n",
      " 4   num_comments  293119 non-null  int64 \n",
      " 5   author        293119 non-null  object\n",
      " 6   created_at    293119 non-null  object\n",
      "dtypes: int64(3), object(4)\n",
      "memory usage: 15.7+ MB\n"
     ]
    }
   ],
   "source": [
    "# Check datatype\n",
    "df.info()"
   ]
  },
  {
   "cell_type": "markdown",
   "id": "9dcb187a-c4c9-46f3-9124-51eeed443ce3",
   "metadata": {},
   "source": [
    "## Data extration\n",
    "Extracting Ask HN and Show HN Posts as we are interested in those posts"
   ]
  },
  {
   "cell_type": "code",
   "execution_count": 14,
   "id": "c3b0fcf1-be3c-4883-8609-b0a4ece09120",
   "metadata": {},
   "outputs": [
    {
     "name": "stdout",
     "output_type": "stream",
     "text": [
      "9139\n",
      "10158\n"
     ]
    },
    {
     "data": {
      "text/html": [
       "<div>\n",
       "<style scoped>\n",
       "    .dataframe tbody tr th:only-of-type {\n",
       "        vertical-align: middle;\n",
       "    }\n",
       "\n",
       "    .dataframe tbody tr th {\n",
       "        vertical-align: top;\n",
       "    }\n",
       "\n",
       "    .dataframe thead th {\n",
       "        text-align: right;\n",
       "    }\n",
       "</style>\n",
       "<table border=\"1\" class=\"dataframe\">\n",
       "  <thead>\n",
       "    <tr style=\"text-align: right;\">\n",
       "      <th></th>\n",
       "      <th>id</th>\n",
       "      <th>title</th>\n",
       "      <th>url</th>\n",
       "      <th>num_points</th>\n",
       "      <th>num_comments</th>\n",
       "      <th>author</th>\n",
       "      <th>created_at</th>\n",
       "    </tr>\n",
       "  </thead>\n",
       "  <tbody>\n",
       "    <tr>\n",
       "      <th>10</th>\n",
       "      <td>12578908</td>\n",
       "      <td>Ask HN: What TLD do you use for local developm...</td>\n",
       "      <td>NaN</td>\n",
       "      <td>4</td>\n",
       "      <td>7</td>\n",
       "      <td>Sevrene</td>\n",
       "      <td>9/26/2016 2:53</td>\n",
       "    </tr>\n",
       "    <tr>\n",
       "      <th>42</th>\n",
       "      <td>12578522</td>\n",
       "      <td>Ask HN: How do you pass on your work when you ...</td>\n",
       "      <td>NaN</td>\n",
       "      <td>6</td>\n",
       "      <td>3</td>\n",
       "      <td>PascLeRasc</td>\n",
       "      <td>9/26/2016 1:17</td>\n",
       "    </tr>\n",
       "    <tr>\n",
       "      <th>76</th>\n",
       "      <td>12577908</td>\n",
       "      <td>Ask HN: How a DNS problem can be limited to a ...</td>\n",
       "      <td>NaN</td>\n",
       "      <td>1</td>\n",
       "      <td>0</td>\n",
       "      <td>kuon</td>\n",
       "      <td>9/25/2016 22:57</td>\n",
       "    </tr>\n",
       "    <tr>\n",
       "      <th>80</th>\n",
       "      <td>12577870</td>\n",
       "      <td>Ask HN: Why join a fund when you can be an angel?</td>\n",
       "      <td>NaN</td>\n",
       "      <td>1</td>\n",
       "      <td>3</td>\n",
       "      <td>anthony_james</td>\n",
       "      <td>9/25/2016 22:48</td>\n",
       "    </tr>\n",
       "    <tr>\n",
       "      <th>102</th>\n",
       "      <td>12577647</td>\n",
       "      <td>Ask HN: Someone uses stock trading as passive ...</td>\n",
       "      <td>NaN</td>\n",
       "      <td>5</td>\n",
       "      <td>2</td>\n",
       "      <td>00taffe</td>\n",
       "      <td>9/25/2016 21:50</td>\n",
       "    </tr>\n",
       "  </tbody>\n",
       "</table>\n",
       "</div>"
      ],
      "text/plain": [
       "           id                                              title  url  \\\n",
       "10   12578908  Ask HN: What TLD do you use for local developm...  NaN   \n",
       "42   12578522  Ask HN: How do you pass on your work when you ...  NaN   \n",
       "76   12577908  Ask HN: How a DNS problem can be limited to a ...  NaN   \n",
       "80   12577870  Ask HN: Why join a fund when you can be an angel?  NaN   \n",
       "102  12577647  Ask HN: Someone uses stock trading as passive ...  NaN   \n",
       "\n",
       "     num_points  num_comments         author       created_at  \n",
       "10            4             7        Sevrene   9/26/2016 2:53  \n",
       "42            6             3     PascLeRasc   9/26/2016 1:17  \n",
       "76            1             0           kuon  9/25/2016 22:57  \n",
       "80            1             3  anthony_james  9/25/2016 22:48  \n",
       "102           5             2        00taffe  9/25/2016 21:50  "
      ]
     },
     "execution_count": 14,
     "metadata": {},
     "output_type": "execute_result"
    }
   ],
   "source": [
    "# Extract the post with tile (column 2) starting with 'ask hn' or 'show hn'\n",
    "ask_HN=df[df['title'].str.lower().str.startswith('ask hn')]\n",
    "show_HN=df[df['title'].str.lower().str.startswith('show hn')]\n",
    "print(ask_HN.shape[0])\n",
    "print(show_HN.shape[0])\n",
    "ask_HN.head()"
   ]
  },
  {
   "cell_type": "markdown",
   "id": "f778174d-8528-4896-a7c8-707cc04d9ef5",
   "metadata": {},
   "source": [
    "## Average number of comments for Ask HN and Show HN Posts"
   ]
  },
  {
   "cell_type": "code",
   "execution_count": 15,
   "id": "543c5c42-b991-4e9e-9f78-71b5c41c4104",
   "metadata": {},
   "outputs": [
    {
     "name": "stdout",
     "output_type": "stream",
     "text": [
      "ask posts average comments number:10.393478498741656\n",
      "show posts average comments number:4.886099625910612\n"
     ]
    }
   ],
   "source": [
    "# Calculate the Average Number of Comments for Ask HN posts \n",
    "avg_ask_comments=ask_HN['num_comments'].mean()\n",
    "print(f'ask posts average comments number:{avg_ask_comments}')\n",
    "\n",
    "# Calculate the Average Number of Comments for Show HN posts \n",
    "avg_show_comments=show_HN['num_comments'].mean()\n",
    "print(f'show posts average comments number:{avg_show_comments}')"
   ]
  },
  {
   "cell_type": "markdown",
   "id": "eaf576e1-e284-4de8-865e-151b8034a6a9",
   "metadata": {},
   "source": [
    "The ask posts received more comments than the shows posts on average, indicating that ask posts are more likely to receive comments"
   ]
  },
  {
   "cell_type": "markdown",
   "id": "dd2e43f7-8b2f-4e70-9ae0-262d1693b7bb",
   "metadata": {},
   "source": [
    "## Finding the amount of Ask Posts and comments by hour created"
   ]
  },
  {
   "cell_type": "code",
   "execution_count": 20,
   "id": "17108de7-1929-4486-b0b8-a9b19dd86738",
   "metadata": {},
   "outputs": [
    {
     "name": "stdout",
     "output_type": "stream",
     "text": [
      "           id                                              title  url  \\\n",
      "10   12578908  Ask HN: What TLD do you use for local developm...  NaN   \n",
      "42   12578522  Ask HN: How do you pass on your work when you ...  NaN   \n",
      "76   12577908  Ask HN: How a DNS problem can be limited to a ...  NaN   \n",
      "80   12577870  Ask HN: Why join a fund when you can be an angel?  NaN   \n",
      "102  12577647  Ask HN: Someone uses stock trading as passive ...  NaN   \n",
      "\n",
      "     num_points  num_comments         author       created_at  \n",
      "10            4             7        Sevrene   9/26/2016 2:53  \n",
      "42            6             3     PascLeRasc   9/26/2016 1:17  \n",
      "76            1             0           kuon  9/25/2016 22:57  \n",
      "80            1             3  anthony_james  9/25/2016 22:48  \n",
      "102           5             2        00taffe  9/25/2016 21:50  \n",
      "              id                                              title  url  \\\n",
      "293047  10177359  Ask HN: Is coursera specialization in product ...  NaN   \n",
      "293052  10177317  Ask HN: Any meteor devs out there who could sp...  NaN   \n",
      "293055  10177309  Ask HN: Any recommendations for books about ra...  NaN   \n",
      "293073  10177200  Ask HN: Where do you look for work if you need...  NaN   \n",
      "293114  10176919        Ask HN: What is/are your favorite quote(s)?  NaN   \n",
      "\n",
      "        num_points  num_comments          author      created_at  \n",
      "293047           1             0         pipipzz  9/6/2015 11:27  \n",
      "293052           2             1      louisswiss  9/6/2015 10:52  \n",
      "293055           2             4  rationalthrowa  9/6/2015 10:46  \n",
      "293073          14            20      coroutines   9/6/2015 9:36  \n",
      "293114          15            20        kumarski   9/6/2015 6:02  \n"
     ]
    }
   ],
   "source": [
    "# Check the data and date format\n",
    "print(ask_HN.head())\n",
    "print(ask_HN.tail())"
   ]
  },
  {
   "cell_type": "markdown",
   "id": "c480e464-5fa7-4a03-9171-d0d9efb058d4",
   "metadata": {},
   "source": [
    "By checking the data in 'crated_at' column, we can know that the format of the date is M/D/Y"
   ]
  },
  {
   "cell_type": "code",
   "execution_count": 97,
   "id": "58b11146-1b1f-4450-a81d-20a5b6ab5a7d",
   "metadata": {},
   "outputs": [
    {
     "name": "stdout",
     "output_type": "stream",
     "text": [
      "(24, 3)\n",
      "MultiIndex([('num_comments', 'count'),\n",
      "            ('num_comments',   'sum'),\n",
      "            ('num_comments',  'mean')],\n",
      "           )\n"
     ]
    },
    {
     "data": {
      "text/html": [
       "<div>\n",
       "<style scoped>\n",
       "    .dataframe tbody tr th:only-of-type {\n",
       "        vertical-align: middle;\n",
       "    }\n",
       "\n",
       "    .dataframe tbody tr th {\n",
       "        vertical-align: top;\n",
       "    }\n",
       "\n",
       "    .dataframe thead th {\n",
       "        text-align: right;\n",
       "    }\n",
       "</style>\n",
       "<table border=\"1\" class=\"dataframe\">\n",
       "  <thead>\n",
       "    <tr style=\"text-align: right;\">\n",
       "      <th></th>\n",
       "      <th>post_count</th>\n",
       "      <th>num_comments_sum</th>\n",
       "      <th>num_comments_mean</th>\n",
       "    </tr>\n",
       "    <tr>\n",
       "      <th>created_at_hour</th>\n",
       "      <th></th>\n",
       "      <th></th>\n",
       "      <th></th>\n",
       "    </tr>\n",
       "  </thead>\n",
       "  <tbody>\n",
       "    <tr>\n",
       "      <th>0</th>\n",
       "      <td>301</td>\n",
       "      <td>2277</td>\n",
       "      <td>7.564784</td>\n",
       "    </tr>\n",
       "    <tr>\n",
       "      <th>1</th>\n",
       "      <td>282</td>\n",
       "      <td>2089</td>\n",
       "      <td>7.407801</td>\n",
       "    </tr>\n",
       "    <tr>\n",
       "      <th>2</th>\n",
       "      <td>269</td>\n",
       "      <td>2996</td>\n",
       "      <td>11.137546</td>\n",
       "    </tr>\n",
       "    <tr>\n",
       "      <th>3</th>\n",
       "      <td>271</td>\n",
       "      <td>2154</td>\n",
       "      <td>7.948339</td>\n",
       "    </tr>\n",
       "    <tr>\n",
       "      <th>4</th>\n",
       "      <td>243</td>\n",
       "      <td>2360</td>\n",
       "      <td>9.711934</td>\n",
       "    </tr>\n",
       "  </tbody>\n",
       "</table>\n",
       "</div>"
      ],
      "text/plain": [
       "                 post_count  num_comments_sum  num_comments_mean\n",
       "created_at_hour                                                 \n",
       "0                       301              2277           7.564784\n",
       "1                       282              2089           7.407801\n",
       "2                       269              2996          11.137546\n",
       "3                       271              2154           7.948339\n",
       "4                       243              2360           9.711934"
      ]
     },
     "execution_count": 97,
     "metadata": {},
     "output_type": "execute_result"
    }
   ],
   "source": [
    "# Convert the date to a pandas datetime object, then extract the hour from the date\n",
    "ask_HN.loc[:,'created_at']=pd.to_datetime(ask_HN['created_at'], format='%m/%d/%Y %H:%M')\n",
    "ask_HN.loc[:,'created_at_hour']=ask_HN['created_at'].dt.hour\n",
    "\n",
    "# Group by hour\n",
    "posts_by_hour=ask_HN.groupby('created_at_hour')[['num_comments']].agg(['count','sum','mean'])\n",
    "print(posts_by_hour.shape)\n",
    "print(posts_by_hour.columns)\n",
    "\n",
    "# flatten the MultiIndex columns  \n",
    "posts_by_hour.columns = ['post_count', 'num_comments_sum', 'num_comments_mean']\n",
    "# print(posts_by_hour.columns)\n",
    "posts_by_hour.head()"
   ]
  },
  {
   "cell_type": "code",
   "execution_count": 98,
   "id": "3801b68b-dc99-4a1d-8aac-4627530575db",
   "metadata": {},
   "outputs": [
    {
     "data": {
      "text/html": [
       "<div>\n",
       "<style scoped>\n",
       "    .dataframe tbody tr th:only-of-type {\n",
       "        vertical-align: middle;\n",
       "    }\n",
       "\n",
       "    .dataframe tbody tr th {\n",
       "        vertical-align: top;\n",
       "    }\n",
       "\n",
       "    .dataframe thead th {\n",
       "        text-align: right;\n",
       "    }\n",
       "</style>\n",
       "<table border=\"1\" class=\"dataframe\">\n",
       "  <thead>\n",
       "    <tr style=\"text-align: right;\">\n",
       "      <th></th>\n",
       "      <th>post_count</th>\n",
       "      <th>num_comments_sum</th>\n",
       "      <th>num_comments_mean</th>\n",
       "    </tr>\n",
       "    <tr>\n",
       "      <th>created_at_hour</th>\n",
       "      <th></th>\n",
       "      <th></th>\n",
       "      <th></th>\n",
       "    </tr>\n",
       "  </thead>\n",
       "  <tbody>\n",
       "    <tr>\n",
       "      <th>15</th>\n",
       "      <td>646</td>\n",
       "      <td>18525</td>\n",
       "      <td>28.676471</td>\n",
       "    </tr>\n",
       "    <tr>\n",
       "      <th>13</th>\n",
       "      <td>444</td>\n",
       "      <td>7245</td>\n",
       "      <td>16.317568</td>\n",
       "    </tr>\n",
       "    <tr>\n",
       "      <th>12</th>\n",
       "      <td>342</td>\n",
       "      <td>4234</td>\n",
       "      <td>12.380117</td>\n",
       "    </tr>\n",
       "    <tr>\n",
       "      <th>2</th>\n",
       "      <td>269</td>\n",
       "      <td>2996</td>\n",
       "      <td>11.137546</td>\n",
       "    </tr>\n",
       "    <tr>\n",
       "      <th>10</th>\n",
       "      <td>282</td>\n",
       "      <td>3013</td>\n",
       "      <td>10.684397</td>\n",
       "    </tr>\n",
       "  </tbody>\n",
       "</table>\n",
       "</div>"
      ],
      "text/plain": [
       "                 post_count  num_comments_sum  num_comments_mean\n",
       "created_at_hour                                                 \n",
       "15                      646             18525          28.676471\n",
       "13                      444              7245          16.317568\n",
       "12                      342              4234          12.380117\n",
       "2                       269              2996          11.137546\n",
       "10                      282              3013          10.684397"
      ]
     },
     "execution_count": 98,
     "metadata": {},
     "output_type": "execute_result"
    }
   ],
   "source": [
    "# Sorting the result\n",
    "posts_by_hour=posts_by_hour.sort_values(by='num_comments_mean',ascending=False)\n",
    "posts_by_hour.head(5)  \n"
   ]
  },
  {
   "cell_type": "code",
   "execution_count": 99,
   "id": "80edbefd-42b1-4e2f-8ad9-a2385c4c92ce",
   "metadata": {},
   "outputs": [
    {
     "data": {
      "text/html": [
       "<div>\n",
       "<style scoped>\n",
       "    .dataframe tbody tr th:only-of-type {\n",
       "        vertical-align: middle;\n",
       "    }\n",
       "\n",
       "    .dataframe tbody tr th {\n",
       "        vertical-align: top;\n",
       "    }\n",
       "\n",
       "    .dataframe thead th {\n",
       "        text-align: right;\n",
       "    }\n",
       "</style>\n",
       "<table border=\"1\" class=\"dataframe\">\n",
       "  <thead>\n",
       "    <tr style=\"text-align: right;\">\n",
       "      <th></th>\n",
       "      <th>created_at_hour</th>\n",
       "      <th>post_count</th>\n",
       "      <th>num_comments_sum</th>\n",
       "      <th>num_comments_mean</th>\n",
       "      <th>created_at_hour_str</th>\n",
       "    </tr>\n",
       "  </thead>\n",
       "  <tbody>\n",
       "    <tr>\n",
       "      <th>0</th>\n",
       "      <td>15</td>\n",
       "      <td>646</td>\n",
       "      <td>18525</td>\n",
       "      <td>28.676471</td>\n",
       "      <td>15:00</td>\n",
       "    </tr>\n",
       "    <tr>\n",
       "      <th>1</th>\n",
       "      <td>13</td>\n",
       "      <td>444</td>\n",
       "      <td>7245</td>\n",
       "      <td>16.317568</td>\n",
       "      <td>13:00</td>\n",
       "    </tr>\n",
       "    <tr>\n",
       "      <th>2</th>\n",
       "      <td>12</td>\n",
       "      <td>342</td>\n",
       "      <td>4234</td>\n",
       "      <td>12.380117</td>\n",
       "      <td>12:00</td>\n",
       "    </tr>\n",
       "    <tr>\n",
       "      <th>3</th>\n",
       "      <td>2</td>\n",
       "      <td>269</td>\n",
       "      <td>2996</td>\n",
       "      <td>11.137546</td>\n",
       "      <td>02:00</td>\n",
       "    </tr>\n",
       "    <tr>\n",
       "      <th>4</th>\n",
       "      <td>10</td>\n",
       "      <td>282</td>\n",
       "      <td>3013</td>\n",
       "      <td>10.684397</td>\n",
       "      <td>10:00</td>\n",
       "    </tr>\n",
       "  </tbody>\n",
       "</table>\n",
       "</div>"
      ],
      "text/plain": [
       "   created_at_hour  post_count  num_comments_sum  num_comments_mean  \\\n",
       "0               15         646             18525          28.676471   \n",
       "1               13         444              7245          16.317568   \n",
       "2               12         342              4234          12.380117   \n",
       "3                2         269              2996          11.137546   \n",
       "4               10         282              3013          10.684397   \n",
       "\n",
       "  created_at_hour_str  \n",
       "0               15:00  \n",
       "1               13:00  \n",
       "2               12:00  \n",
       "3               02:00  \n",
       "4               10:00  "
      ]
     },
     "execution_count": 99,
     "metadata": {},
     "output_type": "execute_result"
    }
   ],
   "source": [
    "# reset index and tranform the column of 'created_at_hour' to a string format for illustration\n",
    "posts_by_hour=posts_by_hour.reset_index()\n",
    "posts_by_hour['created_at_hour_str']=posts_by_hour['created_at_hour'].apply(lambda x: f'{x:02d}:00')\n",
    "posts_by_hour.head()"
   ]
  },
  {
   "cell_type": "code",
   "execution_count": 102,
   "id": "3770438d-9a42-49b9-b1a4-f46eb885b45e",
   "metadata": {},
   "outputs": [
    {
     "data": {
      "image/png": "[encoded data removed]",
      "text/plain": [
       "<Figure size 640x480 with 1 Axes>"
      ]
     },
     "metadata": {},
     "output_type": "display_data"
    }
   ],
   "source": [
    "# Show the results with a bar chart\n",
    "sns.barplot(data=posts_by_hour[:5],\n",
    "            y='num_comments_mean',\n",
    "            x='created_at_hour_str',\n",
    "            order=posts_by_hour['created_at_hour_str'][:5],\n",
    "           )\n",
    "plt.title('Top 5 Hours for Ask Post Comments')\n",
    "plt.xlabel('Hour')\n",
    "plt.ylabel('Average Number of Comments')\n",
    "plt.tight_layout()\n",
    "plt.show()\n"
   ]
  },
  {
   "cell_type": "markdown",
   "id": "984785e7-1cb0-471b-adc7-269871136831",
   "metadata": {},
   "source": [
    "* Creating a post at 15:00 (Eastern Time in the US) has a higher chance of receiving comments; the next popular hour is 13:00\n",
    "* This corresponds to UK time 20:00 and 18:00."
   ]
  },
  {
   "cell_type": "markdown",
   "id": "a16e3eeb-e78b-48d3-bbf1-c649f7acca4f",
   "metadata": {},
   "source": [
    "# Conculsion\n",
    "In this work, I analysed the post data on Hacker News with special interest in Ask HN posts and Show HN posts.\n",
    "\n",
    "The analysis shows that the Ask HN posts received more comments than the Show HN posts on average, indicating that Ask HN posts are more likely to receive comments. For Ask HN posts, creating a post at 15:00 Eastern Time in the US (which corresponds to UK time 20:00), has a higher chance of receiving comments."
   ]
  },
  {
   "cell_type": "code",
   "execution_count": null,
   "id": "bb53b1e1-b19e-4996-94d8-43af9f23ad9a",
   "metadata": {},
   "outputs": [],
   "source": []
  }
 ],
 "metadata": {
  "kernelspec": {
   "display_name": "Python 3 (ipykernel)",
   "language": "python",
   "name": "python3"
  },
  "language_info": {
   "codemirror_mode": {
    "name": "ipython",
    "version": 3
   },
   "file_extension": ".py",
   "mimetype": "text/x-python",
   "name": "python",
   "nbconvert_exporter": "python",
   "pygments_lexer": "ipython3",
   "version": "3.12.7"
  }
 },
 "nbformat": 4,
 "nbformat_minor": 5
}
