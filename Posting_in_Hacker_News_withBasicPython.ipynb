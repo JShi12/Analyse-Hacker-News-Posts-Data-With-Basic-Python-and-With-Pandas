{
 "cells": [
  {
   "cell_type": "markdown",
   "id": "21466f8c-4307-4a94-b0ed-d61dae192304",
   "metadata": {},
   "source": [
    "# Posting in Hacker News: Posting Time Affects the Number of Comments (Analysis with Basic Python)\n",
    "Hacker News is a site started by the startup incubator Y Combinator, where user-submitted stories (known as \"posts\") are voted and commented upon, similar to reddit. Hacker News is extremely popular in technology and startup circles, and posts that make it to the top of Hacker News' listings can get hundreds of thousands of visitors as a result.\n",
    "\n",
    "In this project, I aim to use **basic Python** to compare two types of posts, titles begin with either Ask HN or Show HN, to determine the following:\n",
    "\n",
    "* Do Ask HN or Show HN receive more comments on average?\n",
    "* Do posts created at a certain time receive more comments on average?\n",
    "\n",
    "### Summary of Results\n",
    "\n",
    "The data shows that the Ask HN posts received more comments than the Show HN posts on average, indicating that Ask HN posts are more likely to receive comments. For Ask HN posts, creating a post at 15:00 Eastern Time in the US (which corresponds to UK time 20:00), has a higher chance of receiving comments."
   ]
  },
  {
   "cell_type": "markdown",
   "id": "096690b8-b843-42e1-8cc5-a98ff2476159",
   "metadata": {},
   "source": [
    "## Read the data\n",
    "\n",
    "The data used for the analysis was accessed via https://www.kaggle.com/datasets/hacker-news/hacker-news-posts"
   ]
  },
  {
   "cell_type": "code",
   "execution_count": 16,
   "id": "26cbcefc-6994-460f-8ad6-8d5c46fb535a",
   "metadata": {},
   "outputs": [],
   "source": [
    "# import relavant modules\n",
    "import csv\n",
    "import chardet\n",
    "import datetime as dt\n",
    "import matplotlib.pyplot as plt"
   ]
  },
  {
   "cell_type": "code",
   "execution_count": 4,
   "id": "f2d9210b-288e-44a5-939a-4de4617c8bec",
   "metadata": {},
   "outputs": [
    {
     "name": "stdout",
     "output_type": "stream",
     "text": [
      "Detected encoding: utf-8\n",
      "\n",
      "[['id', 'title', 'url', 'num_points', 'num_comments', 'author', 'created_at'], ['12579008', 'You have two days to comment if you want stem cells to be classified as your own', 'http://www.regulations.gov/document?D=FDA-2015-D-3719-0018', '1', '0', 'altstar', '9/26/2016 3:26'], ['12579005', 'SQLAR  the SQLite Archiver', 'https://www.sqlite.org/sqlar/doc/trunk/README.md', '1', '0', 'blacksqr', '9/26/2016 3:24'], ['12578997', 'What if we just printed a flatscreen television on the side of our boxes?', 'https://medium.com/vanmoof/our-secrets-out-f21c1f03fdc8#.ietxmez43', '1', '0', 'pavel_lishin', '9/26/2016 3:19'], ['12578989', 'algorithmic music', 'http://cacm.acm.org/magazines/2011/7/109891-algorithmic-composition/fulltext', '1', '0', 'poindontcare', '9/26/2016 3:16']]\n"
     ]
    }
   ],
   "source": [
    "# Read in the data\n",
    "# identify the encoding first\n",
    "with open('hacker_news.csv','rb') as file:\n",
    "    hn_bytes=file.read(1000)\n",
    "    encoding=chardet.detect(hn_bytes)['encoding']\n",
    "    print(f\"Detected encoding: {encoding}\\n\")\n",
    "    \n",
    "# Read the data with identified encoding\n",
    "with open('hacker_news.csv','r', encoding=encoding) as file:\n",
    "    hn=list(csv.reader(file))\n",
    "\n",
    "# first five rows\n",
    "print(hn[:5])\n",
    "    "
   ]
  },
  {
   "cell_type": "markdown",
   "id": "f67c39a6-d60d-4893-b0fc-1efa90ff99d0",
   "metadata": {},
   "source": [
    "## Data cleaning"
   ]
  },
  {
   "cell_type": "code",
   "execution_count": 5,
   "id": "0b66a7df-b42b-4698-9d59-c47562553ad1",
   "metadata": {},
   "outputs": [
    {
     "name": "stdout",
     "output_type": "stream",
     "text": [
      "['id', 'title', 'url', 'num_points', 'num_comments', 'author', 'created_at']\n",
      "[['12579008', 'You have two days to comment if you want stem cells to be classified as your own', 'http://www.regulations.gov/document?D=FDA-2015-D-3719-0018', '1', '0', 'altstar', '9/26/2016 3:26'], ['12579005', 'SQLAR  the SQLite Archiver', 'https://www.sqlite.org/sqlar/doc/trunk/README.md', '1', '0', 'blacksqr', '9/26/2016 3:24'], ['12578997', 'What if we just printed a flatscreen television on the side of our boxes?', 'https://medium.com/vanmoof/our-secrets-out-f21c1f03fdc8#.ietxmez43', '1', '0', 'pavel_lishin', '9/26/2016 3:19'], ['12578989', 'algorithmic music', 'http://cacm.acm.org/magazines/2011/7/109891-algorithmic-composition/fulltext', '1', '0', 'poindontcare', '9/26/2016 3:16'], ['12578979', 'How the Data Vault Enables the Next-Gen Data Warehouse and Data Lake', 'https://www.talend.com/blog/2016/05/12/talend-and-Â\\x93the-data-vaultÂ\\x94', '1', '0', 'markgainor1', '9/26/2016 3:14']]\n"
     ]
    }
   ],
   "source": [
    "# Remove header\n",
    "headers=hn[0]\n",
    "hn=hn[1:]\n",
    "print(headers)\n",
    "print(hn[:5])"
   ]
  },
  {
   "cell_type": "markdown",
   "id": "9dcb187a-c4c9-46f3-9124-51eeed443ce3",
   "metadata": {},
   "source": [
    "## Data extration\n",
    "Extracting Ask HN and Show HN Posts as we are interested in those posts"
   ]
  },
  {
   "cell_type": "code",
   "execution_count": 10,
   "id": "c3b0fcf1-be3c-4883-8609-b0a4ece09120",
   "metadata": {},
   "outputs": [
    {
     "name": "stdout",
     "output_type": "stream",
     "text": [
      "9139\n",
      "10158\n",
      "273822\n"
     ]
    }
   ],
   "source": [
    "# Extract the post with tile (column 2) starting with 'ask hn' or 'show hn'\n",
    "ask_posts=[]\n",
    "show_posts=[]\n",
    "other_posts=[]\n",
    "\n",
    "for row in hn:\n",
    "    title=row[1]\n",
    "    if title.lower().startswith('ask hn'):\n",
    "        ask_posts.append(row)\n",
    "    elif title.lower().startswith('show hn'):\n",
    "        show_posts.append(row)\n",
    "    else:\n",
    "        other_posts.append(row)\n",
    "        \n",
    "print(len(ask_posts))\n",
    "print(len(show_posts))\n",
    "print(len(other_posts))"
   ]
  },
  {
   "cell_type": "markdown",
   "id": "f778174d-8528-4896-a7c8-707cc04d9ef5",
   "metadata": {},
   "source": [
    "## Analysis - Average number of comments for Ask HN and Show HN Posts"
   ]
  },
  {
   "cell_type": "code",
   "execution_count": 7,
   "id": "543c5c42-b991-4e9e-9f78-71b5c41c4104",
   "metadata": {},
   "outputs": [
    {
     "name": "stdout",
     "output_type": "stream",
     "text": [
      "ask posts average comments number:10.393478498741656\n",
      "show posts average comments number:4.886099625910612\n"
     ]
    }
   ],
   "source": [
    "# Calculate the Average Number of Comments for Ask HN posts \n",
    "total_ask_comments=0\n",
    "for post in ask_posts:\n",
    "    num_comments=int(post[4])\n",
    "    total_ask_comments+=num_comments\n",
    "avg_ask_comments=total_ask_comments/len(ask_posts)\n",
    "print(f'ask posts average comments number:{avg_ask_comments}')\n",
    "\n",
    "# Calculate the Average Number of Comments for Show HN posts \n",
    "total_show_comments=0\n",
    "for post in show_posts:\n",
    "    num_comments=int(post[4])\n",
    "    total_show_comments+=num_comments\n",
    "avg_show_comments=total_show_comments/len(show_posts)\n",
    "print(f'show posts average comments number:{avg_show_comments}')"
   ]
  },
  {
   "cell_type": "markdown",
   "id": "eaf576e1-e284-4de8-865e-151b8034a6a9",
   "metadata": {},
   "source": [
    "The ask posts received more comments than the shows posts on average, indicating that ask posts are more likely to receive comments"
   ]
  },
  {
   "cell_type": "markdown",
   "id": "dd2e43f7-8b2f-4e70-9ae0-262d1693b7bb",
   "metadata": {},
   "source": [
    "## Analysis- Finding the amount of Ask Posts and comments by hour created"
   ]
  },
  {
   "cell_type": "code",
   "execution_count": 12,
   "id": "17108de7-1929-4486-b0b8-a9b19dd86738",
   "metadata": {},
   "outputs": [
    {
     "name": "stdout",
     "output_type": "stream",
     "text": [
      "[['12578908', 'Ask HN: What TLD do you use for local development?', '', '4', '7', 'Sevrene', '9/26/2016 2:53'], ['12578522', 'Ask HN: How do you pass on your work when you die?', '', '6', '3', 'PascLeRasc', '9/26/2016 1:17'], ['12577908', 'Ask HN: How a DNS problem can be limited to a geographic region?', '', '1', '0', 'kuon', '9/25/2016 22:57'], ['12577870', 'Ask HN: Why join a fund when you can be an angel?', '', '1', '3', 'anthony_james', '9/25/2016 22:48'], ['12577647', 'Ask HN: Someone uses stock trading as passive income?', '', '5', '2', '00taffe', '9/25/2016 21:50'], ['12576946', 'Ask HN: How hard would it be to make a cheap, hackable phone?', '', '2', '1', 'hkt', '9/25/2016 19:30'], ['12576899', 'Ask HN: What is that one deciding factor that makes a website successful?', '', '22', '22', 'ziggystardust', '9/25/2016 19:22'], ['12576398', 'Ask HN: Is the world really short of software developers?', '', '2', '3', 'chirau', '9/25/2016 17:55'], ['12575803', 'Ask HN: Geolocalized public API?', '', '1', '0', 'andreapaiola', '9/25/2016 15:48'], ['12575743', 'Ask HN: How to sell and idea?', '', '12', '13', 'hacknat', '9/25/2016 15:35']]\n",
      "[['10177881', 'Ask HN: How to prepare for Tech Interviews?', '', '2', '3', 'BlackLamb', '9/6/2015 15:24'], ['10177843', 'Ask HN: What Should I Including on My Company Report Card?', '', '1', '0', 'evo_9', '9/6/2015 15:09'], ['10177801', 'Ask HN: How to keep young developers', '', '3', '6', 'orangeplus', '9/6/2015 14:53'], ['10177504', 'Ask HN: Discrete Mathematics Help', '', '5', '9', 'jamiefriedrech', '9/6/2015 13:01'], ['10177424', 'Ask HN: How have you changed your password to make it easier to type on mobile?', '', '1', '0', 'zitterbewegung', '9/6/2015 12:17'], ['10177359', 'Ask HN: Is coursera specialization in product management worth doing?', '', '1', '0', 'pipipzz', '9/6/2015 11:27'], ['10177317', 'Ask HN: Any meteor devs out there who could spend 5 min helping an idiot?', '', '2', '1', 'louisswiss', '9/6/2015 10:52'], ['10177309', 'Ask HN: Any recommendations for books about rationality / scientific thinking?', '', '2', '4', 'rationalthrowa', '9/6/2015 10:46'], ['10177200', 'Ask HN: Where do you look for work if you need experience?', '', '14', '20', 'coroutines', '9/6/2015 9:36'], ['10176919', 'Ask HN: What is/are your favorite quote(s)?', '', '15', '20', 'kumarski', '9/6/2015 6:02']]\n"
     ]
    }
   ],
   "source": [
    "# Check the data and date format\n",
    "print(ask_posts[:10])\n",
    "print(ask_posts[-10:])"
   ]
  },
  {
   "cell_type": "code",
   "execution_count": 11,
   "id": "58b11146-1b1f-4450-a81d-20a5b6ab5a7d",
   "metadata": {},
   "outputs": [
    {
     "name": "stdout",
     "output_type": "stream",
     "text": [
      "{'02': 269, '01': 282, '22': 383, '21': 518, '19': 552, '17': 587, '15': 646, '14': 513, '13': 444, '11': 312, '10': 282, '09': 222, '07': 226, '03': 271, '23': 343, '20': 510, '16': 579, '08': 257, '00': 301, '18': 614, '12': 342, '04': 243, '06': 234, '05': 209}\n",
      "{'02': 2996, '01': 2089, '22': 3372, '21': 4500, '19': 3954, '17': 5547, '15': 18525, '14': 4972, '13': 7245, '11': 2797, '10': 3013, '09': 1477, '07': 1585, '03': 2154, '23': 2297, '20': 4462, '16': 4466, '08': 2362, '00': 2277, '18': 4877, '12': 4234, '04': 2360, '06': 1587, '05': 1838}\n"
     ]
    }
   ],
   "source": [
    "# Calculate the amount of ask posts created in each hour of the day, along with the number of comments received.\n",
    "# Save the frequency table as libraries - one with hours as keys and the amount of ask posts as values, another with hours as keys and the the number of comments received as values\n",
    "counts_by_hour={}\n",
    "comments_by_hour={}\n",
    "# Extract the hour from the date;\n",
    "# Use the datetime.strptime() method to parse the date and create a datetime object\n",
    "# Then use the datetime.strftime() method to select just the hour from the datetime object\n",
    "for post in ask_posts:\n",
    "    date=dt.datetime.strptime(post[6],'%m/%d/%Y %H:%M') # Check the data for the date format\n",
    "    hour=dt.datetime.strftime(date,'%H')\n",
    "    if hour in counts_by_hour:\n",
    "        counts_by_hour[hour]+=1\n",
    "        comments_by_hour[hour]+=int(post[4])\n",
    "    else:\n",
    "        counts_by_hour[hour]=1\n",
    "        comments_by_hour[hour]=int(post[4])\n",
    "    \n",
    "print(counts_by_hour)  \n",
    "print(comments_by_hour)"
   ]
  },
  {
   "cell_type": "code",
   "execution_count": 14,
   "id": "c58381b0-6cbe-4778-9462-0686591bfd6e",
   "metadata": {},
   "outputs": [
    {
     "data": {
      "text/plain": [
       "[['02', 11.137546468401487],\n",
       " ['01', 7.407801418439717],\n",
       " ['22', 8.804177545691905],\n",
       " ['21', 8.687258687258687],\n",
       " ['19', 7.163043478260869],\n",
       " ['17', 9.449744463373083],\n",
       " ['15', 28.676470588235293],\n",
       " ['14', 9.692007797270955],\n",
       " ['13', 16.31756756756757],\n",
       " ['11', 8.96474358974359],\n",
       " ['10', 10.684397163120567],\n",
       " ['09', 6.653153153153153],\n",
       " ['07', 7.013274336283186],\n",
       " ['03', 7.948339483394834],\n",
       " ['23', 6.696793002915452],\n",
       " ['20', 8.749019607843136],\n",
       " ['16', 7.713298791018998],\n",
       " ['08', 9.190661478599221],\n",
       " ['00', 7.5647840531561465],\n",
       " ['18', 7.94299674267101],\n",
       " ['12', 12.380116959064328],\n",
       " ['04', 9.7119341563786],\n",
       " ['06', 6.782051282051282],\n",
       " ['05', 8.794258373205741]]"
      ]
     },
     "execution_count": 14,
     "metadata": {},
     "output_type": "execute_result"
    }
   ],
   "source": [
    "# Calculate the average comments per post by hour\n",
    "avg_by_hour = []\n",
    "for hour in counts_by_hour:\n",
    "    avg_by_hour.append([hour, comments_by_hour[hour]/counts_by_hour[hour]])\n",
    "avg_by_hour"
   ]
  },
  {
   "cell_type": "code",
   "execution_count": 27,
   "id": "3801b68b-dc99-4a1d-8aac-4627530575db",
   "metadata": {},
   "outputs": [
    {
     "name": "stdout",
     "output_type": "stream",
     "text": [
      "Top 5 Hours for Ask Posts Comments\n",
      "15:00: 28.68 average comments per post\n",
      "13:00: 16.32 average comments per post\n",
      "12:00: 12.38 average comments per post\n",
      "02:00: 11.14 average comments per post\n",
      "10:00: 10.68 average comments per post\n"
     ]
    },
    {
     "data": {
      "image/png": "[encoded data removed]",
      "text/plain": [
       "<Figure size 640x480 with 1 Axes>"
      ]
     },
     "metadata": {},
     "output_type": "display_data"
    }
   ],
   "source": [
    "# Sorting the result\n",
    "avg_by_hour=sorted(avg_by_hour,key=lambda x:[x[1],x[0]], reverse=True)\n",
    "\n",
    "print(f'Top 5 Hours for Ask Posts Comments')\n",
    "hours=[]\n",
    "average_comments=[]\n",
    "for hour,avg_comment in avg_by_hour[:5]:\n",
    "    time=dt.datetime.strptime(hour,'%H')\n",
    "    time_format=dt.datetime.strftime(time,'%H:%M')\n",
    "    print(f'{time_format}: {avg_comment:.2f} average comments per post')\n",
    "    hours.append(time_format)\n",
    "    average_comments.append(avg_comment)\n",
    "    \n",
    "    \n",
    "# Show the results with a bar chart\n",
    "%matplotlib inline \n",
    "top_5=avg_by_hour[:5]\n",
    "plt.bar(hours,average_comments)\n",
    "plt.title('Top 5 Hours for Ask Post Comments')\n",
    "plt.xlabel('Hour')\n",
    "plt.ylabel('Average Number of Comments')\n",
    "plt.tight_layout()\n",
    "plt.show()\n"
   ]
  },
  {
   "cell_type": "code",
   "execution_count": null,
   "id": "67044bc4-e79a-4a20-9398-e9c0eb98792a",
   "metadata": {},
   "outputs": [],
   "source": [
    "# "
   ]
  },
  {
   "cell_type": "markdown",
   "id": "984785e7-1cb0-471b-adc7-269871136831",
   "metadata": {},
   "source": [
    "* Creating a post at 15:00 (Eastern Time in the US) has a higher chance of receiving comments; the next popular hour is 13:00\n",
    "* This corresponds to UK time 20:00 and 18:00."
   ]
  },
  {
   "cell_type": "markdown",
   "id": "a16e3eeb-e78b-48d3-bbf1-c649f7acca4f",
   "metadata": {},
   "source": [
    "# Conculsion\n",
    "In this work, I analysed the post data on Hacker News with special interest in Ask HN posts and Show HN posts.\n",
    "\n",
    "The analysis shows that the Ask HN posts received more comments than the Show HN posts on average, indicating that Ask HN posts are more likely to receive comments. For Ask HN posts, creating a post at 15:00 Eastern Time in the US (which corresponds to UK time 20:00), has a higher chance of receiving comments."
   ]
  },
  {
   "cell_type": "code",
   "execution_count": null,
   "id": "bb53b1e1-b19e-4996-94d8-43af9f23ad9a",
   "metadata": {},
   "outputs": [],
   "source": []
  }
 ],
 "metadata": {
  "kernelspec": {
   "display_name": "Python 3 (ipykernel)",
   "language": "python",
   "name": "python3"
  },
  "language_info": {
   "codemirror_mode": {
    "name": "ipython",
    "version": 3
   },
   "file_extension": ".py",
   "mimetype": "text/x-python",
   "name": "python",
   "nbconvert_exporter": "python",
   "pygments_lexer": "ipython3",
   "version": "3.12.7"
  }
 },
 "nbformat": 4,
 "nbformat_minor": 5
}
